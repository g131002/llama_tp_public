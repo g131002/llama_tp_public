{
 "cells": [
  {
   "cell_type": "code",
   "execution_count": 1,
   "id": "48c3cdde",
   "metadata": {},
   "outputs": [
    {
     "name": "stderr",
     "output_type": "stream",
     "text": [
      "/usr/local/lib/python3.10/dist-packages/tqdm/auto.py:21: TqdmWarning: IProgress not found. Please update jupyter and ipywidgets. See https://ipywidgets.readthedocs.io/en/stable/user_install.html\n",
      "  from .autonotebook import tqdm as notebook_tqdm\n"
     ]
    }
   ],
   "source": [
    "import random\n",
    "\n",
    "import numpy as np\n",
    "import torch\n",
    "from transformers import LlamaForCausalLM, LlamaConfig\n",
    "\n",
    "def count_parameters(model):\n",
    "    return sum(p.numel() for p in model.parameters() if p.requires_grad)\n",
    "\n",
    "def set_seed(seed: int):\n",
    "    \"\"\"\n",
    "    Helper function for reproducible behavior to set the seed in `random`, `numpy`, `torch` and/or `tf` (if installed).\n",
    "\n",
    "    Args:\n",
    "        seed (`int`): The seed to set.\n",
    "    \"\"\"\n",
    "    random.seed(seed)\n",
    "    np.random.seed(seed)\n",
    "    torch.manual_seed(seed)\n",
    "    torch.cuda.manual_seed_all(seed)\n",
    "\n",
    "config = LlamaConfig(num_hidden_layers=1, hidden_size=1024, intermediate_size=3000)\n",
    "set_seed(42)\n",
    "hf_llama = LlamaForCausalLM(config)"
   ]
  },
  {
   "cell_type": "code",
   "execution_count": 2,
   "id": "5905fe59",
   "metadata": {},
   "outputs": [],
   "source": [
    "from modeling_llama import LlamaForCausalLM\n",
    "\n",
    "set_seed(42)\n",
    "\n",
    "llama = LlamaForCausalLM(config)"
   ]
  },
  {
   "cell_type": "code",
   "execution_count": 3,
   "id": "0dcd4474",
   "metadata": {},
   "outputs": [
    {
     "name": "stdout",
     "output_type": "stream",
     "text": [
      "Model state dict matches the reference model state dict\n"
     ]
    }
   ],
   "source": [
    "with torch.no_grad():\n",
    "    ref_state_dict = hf_llama.state_dict()\n",
    "    model_state_dict = llama.state_dict()\n",
    "\n",
    "    for k in ref_state_dict.keys():\n",
    "        ref = ref_state_dict[k].float()\n",
    "        current = model_state_dict[k].cpu().float()\n",
    "        assert torch.allclose(\n",
    "            ref, current, atol=1e-2\n",
    "        ), f\"Model state dict does not match the reference model state dict for key {k}. Difference: {(ref - current).abs().max()}\"\n",
    "\n",
    "    print(\"Model state dict matches the reference model state dict\")"
   ]
  },
  {
   "cell_type": "code",
   "execution_count": 4,
   "id": "d470bd62",
   "metadata": {},
   "outputs": [],
   "source": [
    "torch.save(llama.state_dict(), \"initial_llama.pth\")"
   ]
  },
  {
   "cell_type": "code",
   "execution_count": 4,
   "id": "14b73430",
   "metadata": {},
   "outputs": [],
   "source": [
    "import os\n",
    "\n",
    "from transformers import AutoTokenizer\n",
    "from torch.optim import Adam\n",
    "\n",
    "hf_token = os..environ['HF_TOKEN']\n",
    "\n",
    "optimizer = Adam(llama.parameters(), lr=1e-1, betas=(0.9, 0.999), eps=1e-8)\n",
    "tokenizer = AutoTokenizer.from_pretrained('meta-llama/Llama-2-7b-chat-hf', token=hf_token)\n",
    "\n",
    "test_input = 'test llama forward backward'\n",
    "inputs = tokenizer(test_input, return_tensors='pt')\n",
    "inputs['labels'] = inputs['input_ids']\n",
    "\n",
    "loss = llama(**inputs).loss\n",
    "print(\"loss: \", loss)\n",
    "\n",
    "loss.backward()\n",
    "\n",
    "torch.save(llama.model.layers[0].self_attn.q_proj.weight.grad, 'q_proj_grad.pth')\n",
    "torch.save(llama.lm_head.weight.grad, 'lm_head_grad.pth')\n",
    "torch.save(llama.model.embed_tokens.weight.grad, 'embed_grad.pth')\n",
    "\n",
    "optimizer.step()\n"
   ]
  },
  {
   "cell_type": "code",
   "execution_count": 7,
   "id": "65cf6183",
   "metadata": {},
   "outputs": [
    {
     "ename": "AssertionError",
     "evalue": "Model state dict does not match the reference model state dict for key model.embed_tokens.weight. Difference: 0.10000000894069672",
     "output_type": "error",
     "traceback": [
      "\u001b[0;31m---------------------------------------------------------------------------\u001b[0m",
      "\u001b[0;31mAssertionError\u001b[0m                            Traceback (most recent call last)",
      "Cell \u001b[0;32mIn[7], line 8\u001b[0m\n\u001b[1;32m      6\u001b[0m     ref \u001b[38;5;241m=\u001b[39m ref_state_dict[k]\u001b[38;5;241m.\u001b[39mfloat()\n\u001b[1;32m      7\u001b[0m     current \u001b[38;5;241m=\u001b[39m model_state_dict[k]\u001b[38;5;241m.\u001b[39mcpu()\u001b[38;5;241m.\u001b[39mfloat()\n\u001b[0;32m----> 8\u001b[0m     \u001b[38;5;28;01massert\u001b[39;00m torch\u001b[38;5;241m.\u001b[39mallclose(\n\u001b[1;32m      9\u001b[0m         ref, current, atol\u001b[38;5;241m=\u001b[39m\u001b[38;5;241m1e-2\u001b[39m\n\u001b[1;32m     10\u001b[0m     ), \u001b[38;5;124mf\u001b[39m\u001b[38;5;124m\"\u001b[39m\u001b[38;5;124mModel state dict does not match the reference model state dict for key \u001b[39m\u001b[38;5;132;01m{\u001b[39;00mk\u001b[38;5;132;01m}\u001b[39;00m\u001b[38;5;124m. Difference: \u001b[39m\u001b[38;5;132;01m{\u001b[39;00m(ref\u001b[38;5;250m \u001b[39m\u001b[38;5;241m-\u001b[39m\u001b[38;5;250m \u001b[39mcurrent)\u001b[38;5;241m.\u001b[39mabs()\u001b[38;5;241m.\u001b[39mmax()\u001b[38;5;132;01m}\u001b[39;00m\u001b[38;5;124m\"\u001b[39m\n\u001b[1;32m     12\u001b[0m \u001b[38;5;28mprint\u001b[39m(\u001b[38;5;124m\"\u001b[39m\u001b[38;5;124mModel state dict matches the reference model state dict\u001b[39m\u001b[38;5;124m\"\u001b[39m)\n",
      "\u001b[0;31mAssertionError\u001b[0m: Model state dict does not match the reference model state dict for key model.embed_tokens.weight. Difference: 0.10000000894069672"
     ]
    }
   ],
   "source": [
    "with torch.no_grad():\n",
    "    ref_state_dict = hf_llama.state_dict()\n",
    "    model_state_dict = llama.state_dict()\n",
    "\n",
    "    for k in ref_state_dict.keys():\n",
    "        ref = ref_state_dict[k].float()\n",
    "        current = model_state_dict[k].cpu().float()\n",
    "        assert torch.allclose(\n",
    "            ref, current, atol=1e-2\n",
    "        ), f\"Model state dict does not match the reference model state dict for key {k}. Difference: {(ref - current).abs().max()}\"\n",
    "\n",
    "    print(\"Model state dict matches the reference model state dict\")"
   ]
  },
  {
   "cell_type": "code",
   "execution_count": 8,
   "id": "8f7b30c4",
   "metadata": {},
   "outputs": [],
   "source": [
    "torch.save(llama.state_dict(), \"one_step_llama.pth\")"
   ]
  },
  {
   "cell_type": "code",
   "execution_count": null,
   "id": "b61b8eb3",
   "metadata": {},
   "outputs": [],
   "source": []
  }
 ],
 "metadata": {
  "kernelspec": {
   "display_name": "Python 3 (ipykernel)",
   "language": "python",
   "name": "python3"
  },
  "language_info": {
   "codemirror_mode": {
    "name": "ipython",
    "version": 3
   },
   "file_extension": ".py",
   "mimetype": "text/x-python",
   "name": "python",
   "nbconvert_exporter": "python",
   "pygments_lexer": "ipython3",
   "version": "3.10.12"
  }
 },
 "nbformat": 4,
 "nbformat_minor": 5
}
